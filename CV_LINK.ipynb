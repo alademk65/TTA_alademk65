{
  "nbformat": 4,
  "nbformat_minor": 0,
  "metadata": {
    "colab": {
      "name": "CV LINK.ipynb",
      "provenance": [],
      "authorship_tag": "ABX9TyOH6beFD00tBQHXpsD+LSQV",
      "include_colab_link": true
    },
    "kernelspec": {
      "name": "python3",
      "display_name": "Python 3"
    },
    "language_info": {
      "name": "python"
    }
  },
  "cells": [
    {
      "cell_type": "markdown",
      "metadata": {
        "id": "view-in-github",
        "colab_type": "text"
      },
      "source": [
        "<a href=\"https://colab.research.google.com/github/alademk65/TTA_alademk65/blob/main/CV_LINK.ipynb\" target=\"_parent\"><img src=\"https://colab.research.google.com/assets/colab-badge.svg\" alt=\"Open In Colab\"/></a>"
      ]
    },
    {
      "cell_type": "markdown",
      "source": [
        "# CV LINK\n",
        "\n",
        "> https://docs.google.com/document/d/106PTv97Age_Ort2Sv47kJlNEXc-gfhxh/edit?usp=sharing&ouid=108372682749443341257&rtpof=true&sd=true"
      ],
      "metadata": {
        "id": "m0grgcrf-HMg"
      }
    },
    {
      "cell_type": "code",
      "execution_count": null,
      "metadata": {
        "id": "BQK-DJ8F-FBC"
      },
      "outputs": [],
      "source": [
        ""
      ]
    }
  ]
}