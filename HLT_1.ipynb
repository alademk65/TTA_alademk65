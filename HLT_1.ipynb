{
  "nbformat": 4,
  "nbformat_minor": 0,
  "metadata": {
    "colab": {
      "name": "HLT 1.ipynb",
      "provenance": [],
      "authorship_tag": "ABX9TyNLIrLQfqxV/LyTv03v2Isi",
      "include_colab_link": true
    },
    "kernelspec": {
      "name": "python3",
      "display_name": "Python 3"
    },
    "language_info": {
      "name": "python"
    }
  },
  "cells": [
    {
      "cell_type": "markdown",
      "metadata": {
        "id": "view-in-github",
        "colab_type": "text"
      },
      "source": [
        "<a href=\"https://colab.research.google.com/github/alademk65/TTA_alademk65/blob/main/HLT_1.ipynb\" target=\"_parent\"><img src=\"https://colab.research.google.com/assets/colab-badge.svg\" alt=\"Open In Colab\"/></a>"
      ]
    },
    {
      "cell_type": "code",
      "metadata": {
        "id": "P_qklxN874Wa",
        "colab": {
          "base_uri": "https://localhost:8080/"
        },
        "outputId": "bbc0417c-3dcd-4938-abdb-12d44d423c5a"
      },
      "source": [
        "#Task1\n",
        "import random\n",
        "myName = input(\"Hello! What is your name?\")\n",
        "number = random.randint(1, 10)\n",
        "print(\"Well, \" + myName + \" I am thinking of a number between 1 and 10.\")\n",
        "guess = int(input(\"Take a guess:\") )\n",
        "if guess == number:\n",
        " print(\"Good job,\" + myName + \"! You guessed my number\")\n",
        "else:\n",
        " print(\"Wrong, better luck next time\")  "
      ],
      "execution_count": null,
      "outputs": [
        {
          "output_type": "stream",
          "name": "stdout",
          "text": [
            "Hello! What is your name?mk\n",
            "Well, mk I am thinking of a number between 1 and 10.\n",
            "Take a guess:5\n",
            "Wrong, better luck next time\n"
          ]
        }
      ]
    },
    {
      "cell_type": "code",
      "metadata": {
        "id": "-ZnbBIOs8SSZ",
        "colab": {
          "base_uri": "https://localhost:8080/"
        },
        "outputId": "b420a988-d096-4009-9c08-08be7ca29338"
      },
      "source": [
        "#Task2\n",
        "\n",
        "joke1= \"\"\"I have created a writing software\\\n",
        " to rival microsoft. \\n It is their Word against mine.\"\"\"\n",
        "\n",
        "joke2= \"\"\"Where do vampire pencils come from\\\n",
        "   \\n Pennsylvania.\"\"\"\n",
        "\n",
        "joke3= \"\"\"I was robbed at the gas station today!\\\n",
        "   \\n I called the police and they asked if I knew who did it?\\\n",
        "   \\n I said yes, pump #6.\"\"\"\n",
        "\n",
        "joke4= \"\"\"What do you get if you cross\\\n",
        " a snowman with a vampire? \\n Frostbite.\"\"\"\n",
        "\n",
        "clue1= \"\"\"Please only choose an integer between 1 and 100\"\"\"\n",
        " \n",
        "import random\n",
        "myName = input(\"Hello! What is your name? \")\n",
        "number = random.randint(1, 100)\n",
        "print(\"Well, \" + myName + \" What is your favorite number between 1 and 100.\")\n",
        "\n",
        "guess = int(input(\"Type the favorite number:\") )\n",
        "\n",
        "if guess >= 1 and guess <= 25:\n",
        " print(\"Your Favorite Joke is : \" + joke1 )\n",
        "elif guess >= 25 and guess <= 50:\n",
        " print(\"Your Favorite Joke is : \" + joke2)\n",
        "elif guess >= 51 and guess <= 75:\n",
        " print(\"Your Favorite Joke is : \" + joke3)\n",
        "elif guess >= 76 and guess <= 100:\n",
        " print(\"Your Favorite Joke is : \" + joke1)\n",
        "else:\n",
        " print(clue1)"
      ],
      "execution_count": null,
      "outputs": [
        {
          "output_type": "stream",
          "name": "stdout",
          "text": [
            "Hello! What is your name? mk\n",
            "Well, mk What is your favorite number between 1 and 100.\n",
            "Type the favorite number:60\n",
            "Your Favorite Joke is : I was robbed at the gas station today!   \n",
            " I called the police and they asked if I knew who did it?   \n",
            " I said yes, pump #6.\n"
          ]
        }
      ]
    },
    {
      "cell_type": "code",
      "source": [
        "#Task 3\n",
        "\n",
        "myName = str(input(\"Hello! What is your name?\"))\n",
        "\n",
        "starter1= str(input(myName+ \" What is your favorite starter for a 3 course meal?\"))\n",
        "\n",
        "main1= str(input(myName+ \" What is your favorite main for a 3 course meal?\"))\n",
        "\n",
        "dessert1= str(input(myName+ \" What is your favorite dessert for a 3 course meal?\"))\n",
        "\n",
        "drink1 = str(input(myName+ \" What drink do you like to go with your 3 course meal?\"))\n",
        "\n",
        "print(\"Your favourite meal is\", starter1 , \"as a starter, a\", main1 , \"as a main and\", dessert1 , \"as your dessert. With a drink of\", drink1 , \".\")\n"
      ],
      "metadata": {
        "id": "87O-slIthO8u"
      },
      "execution_count": null,
      "outputs": []
    },
    {
      "cell_type": "code",
      "metadata": {
        "id": "0FfwWK01674K"
      },
      "source": [
        "##Task 4\n",
        "print (\"\\tDepreciation calculator\")\n",
        "print (\"Current bike_value1 is £2000\")\n",
        "\n",
        "year = 1\n",
        "bike_value1 = 2000\n",
        "while bike_value1 > 1000:\n",
        "    bike_value1 = bike_value1*0.9\n",
        "    print(\"bike_value after year \",year,\" : £\",bike_value1)\n",
        "    year +=1  "
      ],
      "execution_count": null,
      "outputs": []
    },
    {
      "cell_type": "code",
      "source": [
        "##Task 5\n",
        "\n",
        "import random\n",
        "myName = str(input(\"Hello! What is your name?\"))\n",
        "random.randint\n",
        "print(\"\\tWell, \" + myName + \" Pick any two numbers for an arithmetic operation.\")\n",
        "\n",
        "number1= input(\"Pick your first number \")\n",
        "number1 = int(number1)\n",
        "\n",
        "number2= input(\"Pick your second number \")\n",
        "number2 = int(number2)\n",
        "\n",
        "sign =input(\"Pick an arithmetic operator \")\n",
        "\n",
        "if sign == \"+\":\n",
        "    print( number1+ number2)\n",
        "elif sign == \"-\":\n",
        "    print(number1 - number2)\n",
        "elif sign == \"/\":\n",
        "    print(number1 / number2)\n",
        "elif sign == \"*\":\n",
        "    print(number1 * number2)\n",
        "elif sign == \"**\":\n",
        "    print(number1 ** number2)\n",
        "elif sign == \"%\":\n",
        "    print(number1 % number2)\n",
        "elif sign == \"//\":\n",
        "    print(number1 // number2)\n",
        "else:\n",
        "    print(\"An appropriate operator was not selected!\")\n"
      ],
      "metadata": {
        "colab": {
          "base_uri": "https://localhost:8080/"
        },
        "id": "W8G0PpVv7ta5",
        "outputId": "d6270d9b-8357-4fa4-f5cd-c553ebd05d09"
      },
      "execution_count": null,
      "outputs": [
        {
          "output_type": "stream",
          "name": "stdout",
          "text": [
            "Hello! What is your name?mk\n",
            "\tWell, mk Pick any two numbers for an arithmetic operation.\n",
            "Pick your first number 6\n",
            "Pick your second number 10\n",
            "Pick an arithmetic operator +\n",
            "16\n"
          ]
        }
      ]
    }
  ]
}