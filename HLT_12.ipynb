{
  "nbformat": 4,
  "nbformat_minor": 0,
  "metadata": {
    "colab": {
      "name": "HLT 12.ipynb",
      "provenance": [],
      "collapsed_sections": [],
      "include_colab_link": true
    },
    "kernelspec": {
      "name": "ir",
      "display_name": "R"
    }
  },
  "cells": [
    {
      "cell_type": "markdown",
      "metadata": {
        "id": "view-in-github",
        "colab_type": "text"
      },
      "source": [
        "<a href=\"https://colab.research.google.com/github/alademk65/TTA_alademk65/blob/main/HLT_12.ipynb\" target=\"_parent\"><img src=\"https://colab.research.google.com/assets/colab-badge.svg\" alt=\"Open In Colab\"/></a>"
      ]
    },
    {
      "cell_type": "code",
      "metadata": {
        "id": "tg4XUaNygDBp",
        "outputId": "96955403-a6c0-461e-c2c9-dbc70b6a5230",
        "colab": {
          "base_uri": "https://localhost:8080/"
        }
      },
      "source": [
        "install.packages('caret')"
      ],
      "execution_count": 5,
      "outputs": [
        {
          "output_type": "stream",
          "name": "stderr",
          "text": [
            "Installing package into ‘/usr/local/lib/R/site-library’\n",
            "(as ‘lib’ is unspecified)\n",
            "\n",
            "also installing the dependency ‘pROC’\n",
            "\n",
            "\n"
          ]
        }
      ]
    },
    {
      "cell_type": "code",
      "metadata": {
        "id": "g_5maO-eZt_n",
        "outputId": "db0270b9-a323-42e9-8cb9-872edfbc800d",
        "colab": {
          "base_uri": "https://localhost:8080/"
        }
      },
      "source": [
        "install.packages('mlbench')"
      ],
      "execution_count": 4,
      "outputs": [
        {
          "output_type": "stream",
          "name": "stderr",
          "text": [
            "Installing package into ‘/usr/local/lib/R/site-library’\n",
            "(as ‘lib’ is unspecified)\n",
            "\n"
          ]
        }
      ]
    },
    {
      "cell_type": "code",
      "metadata": {
        "id": "H6opECZygIYB",
        "outputId": "8db4df31-e781-4e9a-bd43-4480d7abfa22",
        "colab": {
          "base_uri": "https://localhost:8080/"
        }
      },
      "source": [
        "library(caret)"
      ],
      "execution_count": 6,
      "outputs": [
        {
          "output_type": "stream",
          "name": "stderr",
          "text": [
            "Loading required package: ggplot2\n",
            "\n",
            "Loading required package: lattice\n",
            "\n",
            "Warning message in system(\"timedatectl\", intern = TRUE):\n",
            "“running command 'timedatectl' had status 1”\n"
          ]
        }
      ]
    },
    {
      "cell_type": "code",
      "metadata": {
        "id": "0FThma96hDGu"
      },
      "source": [
        "library(ggplot2)"
      ],
      "execution_count": 7,
      "outputs": []
    },
    {
      "cell_type": "code",
      "metadata": {
        "id": "2xwKBBtBZq0i"
      },
      "source": [
        "library(mlbench)"
      ],
      "execution_count": 8,
      "outputs": []
    },
    {
      "cell_type": "code",
      "metadata": {
        "id": "6mQwtgVtYfDp",
        "outputId": "2b394386-524e-4369-fbe3-d30397c447ef",
        "colab": {
          "base_uri": "https://localhost:8080/",
          "height": 35
        }
      },
      "source": [
        "library(parallel)\n",
        "detectCores(all.tests = FALSE, logical = TRUE)"
      ],
      "execution_count": 9,
      "outputs": [
        {
          "output_type": "display_data",
          "data": {
            "text/plain": [
              "[1] 2"
            ],
            "text/latex": "2",
            "text/markdown": "2",
            "text/html": [
              "2"
            ]
          },
          "metadata": {}
        }
      ]
    },
    {
      "cell_type": "code",
      "metadata": {
        "id": "wC5G278gYgnh",
        "colab": {
          "base_uri": "https://localhost:8080/",
          "height": 291
        },
        "outputId": "fcceb26d-8f68-47ce-c4cd-b6b90d3f8537"
      },
      "source": [
        "version"
      ],
      "execution_count": 12,
      "outputs": [
        {
          "output_type": "display_data",
          "data": {
            "text/plain": [
              "               _                           \n",
              "platform       x86_64-pc-linux-gnu         \n",
              "arch           x86_64                      \n",
              "os             linux-gnu                   \n",
              "system         x86_64, linux-gnu           \n",
              "status                                     \n",
              "major          4                           \n",
              "minor          1.2                         \n",
              "year           2021                        \n",
              "month          11                          \n",
              "day            01                          \n",
              "svn rev        81115                       \n",
              "language       R                           \n",
              "version.string R version 4.1.2 (2021-11-01)\n",
              "nickname       Bird Hippie                 "
            ]
          },
          "metadata": {}
        }
      ]
    },
    {
      "cell_type": "code",
      "source": [
        "##1\n",
        "a<-c(1,2,3,4,5)\n",
        "b<-c(6,7,8,9,10)\n",
        "c<-c(11,12,13,14,15)\n",
        "m<-cbind(a,b,c)\n",
        "print(m)"
      ],
      "metadata": {
        "colab": {
          "base_uri": "https://localhost:8080/"
        },
        "id": "Y8cHm3j7ZdZk",
        "outputId": "d7dfba85-8d39-4532-8cb6-bb5a14259162"
      },
      "execution_count": 22,
      "outputs": [
        {
          "output_type": "stream",
          "name": "stdout",
          "text": [
            "     a  b  c\n",
            "[1,] 1  6 11\n",
            "[2,] 2  7 12\n",
            "[3,] 3  8 13\n",
            "[4,] 4  9 14\n",
            "[5,] 5 10 15\n"
          ]
        }
      ]
    },
    {
      "cell_type": "code",
      "source": [
        "##1\n",
        "barplot(m)"
      ],
      "metadata": {
        "colab": {
          "base_uri": "https://localhost:8080/",
          "height": 437
        },
        "id": "JXTbenAd576P",
        "outputId": "6de7651c-f4a0-4b91-8ff6-0c119b79d1fb"
      },
      "execution_count": 52,
      "outputs": [
        {
          "output_type": "display_data",
          "data": {
            "image/png": "[encoded data removed]",
            "text/plain": [
              "plot without title"
            ]
          },
          "metadata": {
            "image/png": {
              "width": 420,
              "height": 420
            }
          }
        }
      ]
    },
    {
      "cell_type": "code",
      "source": [
        "##2\n",
        "emply= data.frame(Name=c(\"Walter Whites\",\"Oliver Queen\",\"Bobby Axlerod\", \"Raymond Redington\",\"Zaha Hadid\"),\n",
        "                      Gender=c(\"M\",\"M\",\"M\",\"M\",\"F\"),\n",
        "                      Age=c(29,54,31,28,26),\n",
        "                      Designation=c(\"Project Officer\",\"CTO\",\"Project Manager\",\"CEO\",\"Executive Assistant\"),\n",
        "                      Service=c(\"3 years\",\"7 years\",\"5 years\",\"10 years\",\"6 years\")\n",
        "                      )\n",
        "print(\"Details of the employees:\")                      \n",
        "print(emply)"
      ],
      "metadata": {
        "colab": {
          "base_uri": "https://localhost:8080/"
        },
        "id": "HisqzietuDRF",
        "outputId": "ff37f47a-d523-4e61-cedf-69d7d88451f4"
      },
      "execution_count": 47,
      "outputs": [
        {
          "output_type": "stream",
          "name": "stdout",
          "text": [
            "[1] \"Details of the employees:\"\n",
            "               Name Gender Age         Designation  Service\n",
            "1     Walter Whites      M  29     Project Officer  3 years\n",
            "2      Oliver Queen      M  54                 CTO  7 years\n",
            "3     Bobby Axlerod      M  31     Project Manager  5 years\n",
            "4 Raymond Redington      M  28                 CEO 10 years\n",
            "5        Zaha Hadid      F  26 Executive Assistant  6 years\n"
          ]
        }
      ]
    },
    {
      "cell_type": "code",
      "source": [
        "##3\n",
        "\n",
        "X <-seq(1,20)\n",
        "x <- X^2\n",
        "\n",
        "y <- x\n",
        "\n",
        "qplot(x, y, geom=c(\"point\", \"line\"))\n"
      ],
      "metadata": {
        "colab": {
          "base_uri": "https://localhost:8080/",
          "height": 437
        },
        "id": "OV6zH6VevULG",
        "outputId": "a5943f55-e3ac-4462-a70a-e6af00852958"
      },
      "execution_count": 49,
      "outputs": [
        {
          "output_type": "display_data",
          "data": {
            "image/png": "[encoded data removed]",
            "text/plain": [
              "plot without title"
            ]
          },
          "metadata": {
            "image/png": {
              "width": 420,
              "height": 420
            }
          }
        }
      ]
    },
    {
      "cell_type": "code",
      "source": [
        "##4\n",
        "marks = c(85, 78, 92, 82)\n",
        "barplot(marks,\n",
        "main = \"Comparing marks of 5 subjects\",\n",
        "xlab = \"Marks\",\n",
        "ylab = \"Subject\",\n",
        "names.arg = c(\"Math.\",\"Science\",\"English\", \"Hist.\"),\n",
        "col = \"blue\",\n",
        "horiz = FALSE)"
      ],
      "metadata": {
        "colab": {
          "base_uri": "https://localhost:8080/",
          "height": 437
        },
        "id": "ZbTRt2PwuDdM",
        "outputId": "71b55275-5c0c-478d-fef0-0c2bc0f3016b"
      },
      "execution_count": 27,
      "outputs": [
        {
          "output_type": "display_data",
          "data": {
            "image/png": "[encoded data removed]",
            "text/plain": [
              "Plot with title “Comparing marks of 5 subjects”"
            ]
          },
          "metadata": {
            "image/png": {
              "width": 420,
              "height": 420
            }
          }
        }
      ]
    },
    {
      "cell_type": "code",
      "source": [
        "##5\n",
        "name <- readline(prompt=\"Input your name: \")\n",
        "age <-  readline(prompt=\"Input your age: \")\n",
        "print(paste(\"My name is\",name, \"and I am\",age ,\"years old.\"))"
      ],
      "metadata": {
        "colab": {
          "base_uri": "https://localhost:8080/"
        },
        "id": "R8hjHSIkzuMs",
        "outputId": "3186503f-87fa-4d29-e727-c397abf7151a"
      },
      "execution_count": 46,
      "outputs": [
        {
          "output_type": "stream",
          "name": "stdout",
          "text": [
            "Input your name: MK\n",
            "Input your age: 28\n",
            "[1] \"My name is MK and I am 28 years old.\"\n"
          ]
        }
      ]
    },
    {
      "cell_type": "code",
      "source": [
        "##6\n",
        "mi<-seq(20,50)\n",
        "me<- mean(mi)\n",
        "print(paste(\"Meanof Sequence of numbers from 20 to 50 is:\",me))"
      ],
      "metadata": {
        "colab": {
          "base_uri": "https://localhost:8080/"
        },
        "id": "9GYRkcCbwY-W",
        "outputId": "be102d34-6f8b-44a6-eede-376c7a421d24"
      },
      "execution_count": 45,
      "outputs": [
        {
          "output_type": "stream",
          "name": "stdout",
          "text": [
            "[1] \"Meanof Sequence of numbers from 20 to 50 is: 35\"\n"
          ]
        }
      ]
    },
    {
      "cell_type": "code",
      "source": [
        "##7\n",
        "ri <- sample(-50:50, 10, replace=TRUE)\n",
        "print(paste(\"10 random integer values between -50 and +50:\",ri))"
      ],
      "metadata": {
        "colab": {
          "base_uri": "https://localhost:8080/"
        },
        "id": "RD5ZlBcLyc2g",
        "outputId": "8b710a3e-8809-4f45-9d0e-0c1055b00df9"
      },
      "execution_count": 35,
      "outputs": [
        {
          "output_type": "stream",
          "name": "stdout",
          "text": [
            " [1] \"10 random integer values between -50 and +50: -29\"\n",
            " [2] \"10 random integer values between -50 and +50: 6\"  \n",
            " [3] \"10 random integer values between -50 and +50: 50\" \n",
            " [4] \"10 random integer values between -50 and +50: 43\" \n",
            " [5] \"10 random integer values between -50 and +50: 2\"  \n",
            " [6] \"10 random integer values between -50 and +50: 12\" \n",
            " [7] \"10 random integer values between -50 and +50: -3\" \n",
            " [8] \"10 random integer values between -50 and +50: 41\" \n",
            " [9] \"10 random integer values between -50 and +50: -39\"\n",
            "[10] \"10 random integer values between -50 and +50: 32\" \n"
          ]
        }
      ]
    }
  ]
}