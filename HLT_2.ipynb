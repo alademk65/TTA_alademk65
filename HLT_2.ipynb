{
  "nbformat": 4,
  "nbformat_minor": 0,
  "metadata": {
    "colab": {
      "name": "HLT 2.ipynb",
      "provenance": [],
      "authorship_tag": "ABX9TyPbaO7+x3yOzPZXwXWEVKGR",
      "include_colab_link": true
    },
    "kernelspec": {
      "name": "python3",
      "display_name": "Python 3"
    },
    "language_info": {
      "name": "python"
    }
  },
  "cells": [
    {
      "cell_type": "markdown",
      "metadata": {
        "id": "view-in-github",
        "colab_type": "text"
      },
      "source": [
        "<a href=\"https://colab.research.google.com/github/alademk65/TTA_alademk65/blob/main/HLT_2.ipynb\" target=\"_parent\"><img src=\"https://colab.research.google.com/assets/colab-badge.svg\" alt=\"Open In Colab\"/></a>"
      ]
    },
    {
      "cell_type": "code",
      "metadata": {
        "id": "P_qklxN874Wa",
        "colab": {
          "base_uri": "https://localhost:8080/"
        },
        "outputId": "e4e27684-9249-40d6-a904-facffa1af5fd"
      },
      "source": [
        "#Task1\n",
        "\n",
        "### Link to flowchart\n",
        "## https://drive.google.com/file/d/1kG4bIvWYBnGKk6g8KbzuSizI7NbE_-Z1/view?usp=sharing\n",
        "\n",
        "\n",
        "import random\n",
        "myName = input(\"Hello! What is your name?\")\n",
        "number = random.randint(1, 10)\n",
        "print(\"Well, \" + myName + \" I am thinking of a number between 1 and 10.\")\n",
        "guess = int(input(\"Take a guess:\") )\n",
        "if guess == number:\n",
        " print(\"Good job,\" + myName + \"! You guessed my number\")\n",
        "else:\n",
        " print(\"Wrong, better luck next time\")  "
      ],
      "execution_count": 19,
      "outputs": [
        {
          "output_type": "stream",
          "name": "stdout",
          "text": [
            "Hello! What is your name?MK\n",
            "Well, MK I am thinking of a number between 1 and 10.\n",
            "Take a guess:6\n",
            "Wrong, better luck next time\n"
          ]
        }
      ]
    },
    {
      "cell_type": "code",
      "execution_count": 7,
      "metadata": {
        "id": "iXlpkfdr6DYo",
        "colab": {
          "base_uri": "https://localhost:8080/"
        },
        "outputId": "eb912067-25b7-424b-8f05-798b6ebbaf19"
      },
      "outputs": [
        {
          "output_type": "stream",
          "name": "stdout",
          "text": [
            "bike_value after year  1  : £ 1800.0\n",
            "bike_value after year  2  : £ 1620.0\n",
            "bike_value after year  3  : £ 1458.0\n",
            "bike_value after year  4  : £ 1312.2\n",
            "bike_value after year  5  : £ 1180.98\n",
            "bike_value after year  6  : £ 1062.882\n",
            "bike_value after year  7  : £ 956.5938000000001\n"
          ]
        }
      ],
      "source": [
        "##Task 2\n",
        "bike_price=2000\n",
        "time1=1\n",
        "def func_depriciation (bike_price, time1):\n",
        "    while bike_price > 1000:\n",
        "      bike_price = bike_price*0.9\n",
        "      values = print(\"bike_value after year \",time1,\" : £\",bike_price)\n",
        "      time1 +=1  \n",
        "    return values\n",
        "  \n",
        "\n",
        "func_depriciation (bike_price, time1)"
      ]
    },
    {
      "cell_type": "code",
      "source": [
        "##Task 3\n",
        "\n",
        "import random\n",
        "random.randint\n",
        "\n",
        "print(\"\\t Pick any two numbers and an operator for an arithmetic operation.\")\n",
        "\n",
        "number1= input(\"Pick your first number \")\n",
        "number1 = int(number1)\n",
        "\n",
        "number2= input(\"Pick your second number \")\n",
        "number2 = int(number2)\n",
        "\n",
        "sign =input(\"Pick an arithmetic operator \")\n",
        "\n",
        "def proc_metic(number1, number2, sign):\n",
        "  if sign == \"+\":\n",
        "      print( number1+ number2)\n",
        "  elif sign == \"-\":\n",
        "      print(number1 - number2)\n",
        "  elif sign == \"/\":\n",
        "      print(number1 / number2)\n",
        "  elif sign == \"*\":\n",
        "      print(number1 * number2)\n",
        "  elif sign == \"**\":\n",
        "      print(number1 ** number2)\n",
        "  elif sign == \"%\":\n",
        "      print(number1 % number2)\n",
        "  elif sign == \"//\":\n",
        "      print(number1 // number2)\n",
        "  else:\n",
        "      print(\"An appropriate operator was not selected!\")\n",
        "\n",
        "proc_metic(number1=8, number2=8, sign= \"+\")\n",
        "\n"
      ],
      "metadata": {
        "id": "FM4BR_atSXMS",
        "colab": {
          "base_uri": "https://localhost:8080/"
        },
        "outputId": "f469eaac-bbae-4f71-b930-dff0e5acefe6"
      },
      "execution_count": 18,
      "outputs": [
        {
          "output_type": "stream",
          "name": "stdout",
          "text": [
            "\t Pick any two numbers and an operator for an arithmetic operation.\n",
            "Pick your first number 8\n",
            "Pick your second number 8\n",
            "Pick an arithmetic operator +\n",
            "16\n"
          ]
        }
      ]
    },
    {
      "cell_type": "code",
      "source": [
        "proc_metic(number1=8, number2=2, sign= \"+\")"
      ],
      "metadata": {
        "colab": {
          "base_uri": "https://localhost:8080/"
        },
        "id": "qwAJhPVIMmEV",
        "outputId": "aa872c05-f547-4c82-9bcf-62a74b08bc1a"
      },
      "execution_count": 17,
      "outputs": [
        {
          "output_type": "stream",
          "name": "stdout",
          "text": [
            "10\n"
          ]
        }
      ]
    }
  ]
}