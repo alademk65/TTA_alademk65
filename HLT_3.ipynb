{
  "nbformat": 4,
  "nbformat_minor": 0,
  "metadata": {
    "colab": {
      "name": "HLT 3.ipynb",
      "provenance": [],
      "collapsed_sections": [],
      "authorship_tag": "ABX9TyNNXRDoXjso7XQ8GL8UwMeD",
      "include_colab_link": true
    },
    "kernelspec": {
      "name": "python3",
      "display_name": "Python 3"
    },
    "language_info": {
      "name": "python"
    }
  },
  "cells": [
    {
      "cell_type": "markdown",
      "metadata": {
        "id": "view-in-github",
        "colab_type": "text"
      },
      "source": [
        "<a href=\"https://colab.research.google.com/github/alademk65/TTA_alademk65/blob/main/HLT_3.ipynb\" target=\"_parent\"><img src=\"https://colab.research.google.com/assets/colab-badge.svg\" alt=\"Open In Colab\"/></a>"
      ]
    },
    {
      "cell_type": "code",
      "source": [
        "from google.colab import drive\n",
        "drive.mount('/content/gdrive/', force_remount=True)"
      ],
      "metadata": {
        "id": "X6QLdFmbdS80",
        "colab": {
          "base_uri": "https://localhost:8080/"
        },
        "outputId": "13e6b4c6-e1a9-4a04-832b-bf5b47d58b92"
      },
      "execution_count": null,
      "outputs": [
        {
          "output_type": "stream",
          "name": "stdout",
          "text": [
            "Mounted at /content/gdrive/\n"
          ]
        }
      ]
    },
    {
      "cell_type": "code",
      "execution_count": null,
      "metadata": {
        "id": "OJ48LpAck6GD",
        "colab": {
          "base_uri": "https://localhost:8080/",
          "height": 122
        },
        "outputId": "cce8111b-1bb6-4841-8477-afced5f728cb"
      },
      "outputs": [
        {
          "output_type": "stream",
          "name": "stdout",
          "text": [
            "data11.txt\n",
            "gdrive\n",
            "Numbers.txt\n",
            "sample_data\n",
            "tta_file\n"
          ]
        },
        {
          "output_type": "execute_result",
          "data": {
            "application/vnd.google.colaboratory.intrinsic+json": {
              "type": "string"
            },
            "text/plain": [
              "'3\\n45'"
            ]
          },
          "metadata": {},
          "execution_count": 66
        }
      ],
      "source": [
        "##TASK 1\n",
        "dn = open(\"Numbers.txt\", \"w\")\n",
        "dn.write(\"3\\n45\")\n",
        "dn.close()\n",
        "\n",
        "! ls -1\n",
        "\n",
        "dn1 = open(\"Numbers.txt\",\"r\")\n",
        "dn2= dn1.read()\n",
        "dn2\n"
      ]
    },
    {
      "cell_type": "code",
      "execution_count": null,
      "metadata": {
        "id": "rULVt8JDhE7k"
      },
      "outputs": [],
      "source": [
        "##TASK 1\n",
        "\n",
        "\n",
        "dn3= open(\"Numbers.txt\", \"a\")\n",
        "dn3.write(\"\\n83\\n21\")\n",
        "dn3.close()\n"
      ]
    },
    {
      "cell_type": "code",
      "source": [
        "##TASK 1\n",
        "dn4= open(\"Numbers.txt\", \"r\")\n",
        "dn5= dn4.read()\n",
        "dn5"
      ],
      "metadata": {
        "colab": {
          "base_uri": "https://localhost:8080/",
          "height": 35
        },
        "id": "AQZL70drdiDK",
        "outputId": "a31b7efd-7a5c-4923-f7e6-27094fe4a4a8"
      },
      "execution_count": null,
      "outputs": [
        {
          "output_type": "execute_result",
          "data": {
            "application/vnd.google.colaboratory.intrinsic+json": {
              "type": "string"
            },
            "text/plain": [
              "'3\\n45\\n83\\n21'"
            ]
          },
          "metadata": {},
          "execution_count": 71
        }
      ]
    },
    {
      "cell_type": "code",
      "source": [
        "##TASK 1\n",
        "dn5.replace(\"\\n\",\",\")"
      ],
      "metadata": {
        "colab": {
          "base_uri": "https://localhost:8080/",
          "height": 35
        },
        "id": "KYtNM7W6wmJQ",
        "outputId": "966f6150-f700-48ea-9dfb-8045b01f920f"
      },
      "execution_count": null,
      "outputs": [
        {
          "output_type": "execute_result",
          "data": {
            "application/vnd.google.colaboratory.intrinsic+json": {
              "type": "string"
            },
            "text/plain": [
              "'3,45,83,21'"
            ]
          },
          "metadata": {},
          "execution_count": 72
        }
      ]
    },
    {
      "cell_type": "code",
      "source": [
        "my_file = open(\"data11.txt\", \"w\")\n",
        "for i in range(10):\n",
        "  my_file.write(str(i))\n",
        "  my_file.write(\"\\n\")\n",
        "my_file.close() \n",
        "\n",
        "! ls -1"
      ],
      "metadata": {
        "colab": {
          "base_uri": "https://localhost:8080/"
        },
        "id": "mStIeqEHJQ5L",
        "outputId": "f97f1fdc-95cd-4b41-efbd-10346dcbc100"
      },
      "execution_count": null,
      "outputs": [
        {
          "output_type": "stream",
          "name": "stdout",
          "text": [
            "data11.txt\n",
            "gdrive\n",
            "Numbers.txt\n",
            "sample_data\n",
            "tta_file\n"
          ]
        }
      ]
    },
    {
      "cell_type": "code",
      "source": [
        "##Task2\n",
        "myName = input(\"Hello! What is your name? \")\n",
        "\n",
        "print(\"Well, \" + myName + \" What is your percentage mark to be graded?.\")\n",
        "\n",
        "mark = float(input(\"Enter your percentage mark:\") )\n",
        "def mark_grade (mark):\n",
        "      if mark >= 70 and mark <= 100:\n",
        "        return \"Your grade : Distinction\" \n",
        "      elif guess >= 60 and guess <= 69.5:\n",
        "        return \"Your grade : Merit\"\n",
        "      elif guess >= 40 and guess <= 59.5:\n",
        "        return \"Your grade : Pass\"\n",
        "      elif guess <40:\n",
        "        return \"Your grade : Fail\"\n",
        "      else:\n",
        "        return \"Enter only your mark\"\n",
        "\n",
        "\n",
        "mark_grade(78)"
      ],
      "metadata": {
        "colab": {
          "base_uri": "https://localhost:8080/",
          "height": 88
        },
        "id": "S6Oc50lk27jN",
        "outputId": "77cd2e58-0352-4afb-eada-66dee4ed9a4c"
      },
      "execution_count": null,
      "outputs": [
        {
          "name": "stdout",
          "output_type": "stream",
          "text": [
            "Hello! What is your name? mk\n",
            "Well, mk What is your percentage mark to be graded?.\n",
            "Enter your percentage mark:78\n"
          ]
        },
        {
          "output_type": "execute_result",
          "data": {
            "application/vnd.google.colaboratory.intrinsic+json": {
              "type": "string"
            },
            "text/plain": [
              "'Your grade : Distinction'"
            ]
          },
          "metadata": {},
          "execution_count": 2
        }
      ]
    },
    {
      "cell_type": "code",
      "source": [
        "##task3\n",
        "\n",
        "import numpy as np\n",
        "\n",
        "a1= np.arange(1,10)\n",
        "print(\"\\n\",a1)\n",
        "\n",
        "b2 =np.ones((3,3),dtype=bool)\n",
        "print(\"\\n2\",b2)\n",
        "\n",
        "c3= np.arange(1,11)\n",
        "print(\"\\n\",c3[c3 % 2 == 1])\n",
        "\n",
        "d4= np.arange(1,11)\n",
        "d4[d4 % 2 == 1]= -1\n",
        "print(\"\\n\",d4)\n",
        "\n",
        "e5=np.arange(1,5).reshape(2,2)\n",
        "print(\"\\n\",e5)\n",
        "\n",
        "\n"
      ],
      "metadata": {
        "id": "0msYRLgolDxb",
        "colab": {
          "base_uri": "https://localhost:8080/"
        },
        "outputId": "76335683-4738-4e42-a0d4-309b8bb205b4"
      },
      "execution_count": 9,
      "outputs": [
        {
          "output_type": "stream",
          "name": "stdout",
          "text": [
            "\n",
            " [1 2 3 4 5 6 7 8 9]\n",
            "\n",
            "2 [[ True  True  True]\n",
            " [ True  True  True]\n",
            " [ True  True  True]]\n",
            "\n",
            " [1 3 5 7 9]\n",
            "\n",
            " [-1  2 -1  4 -1  6 -1  8 -1 10]\n",
            "\n",
            " [[1 2]\n",
            " [3 4]]\n"
          ]
        }
      ]
    },
    {
      "cell_type": "code",
      "source": [
        "##Task 3\n",
        "import numpy as np\n",
        "a = np.arange (1,5).reshape (2,2) \n",
        "b = np.arange (5,9).reshape (2,2) \n",
        "\n",
        "cv= np.vstack((a,b))\n",
        "print(\"\\n\",cv)\n",
        "\n",
        "s1= np.sum(cv,axis=0)\n",
        "print(\"\\n\",s1)\n",
        "\n",
        "r1= np.sum(cv,axis=1)\n",
        "print(\"\\n\",r1)\n",
        "\n",
        "s=np.sum(cv)\n",
        "print(\"\\n\",s)\n",
        "\n",
        "d = np.dot(a,b)\n",
        "print(\"\\n\",d)\n",
        "\n",
        "e= np.sum(d,axis=0)\n",
        "print(\"\\n\",e)\n",
        "\n",
        "f= np.sum(d,axis=1)\n",
        "print(\"\\n\",f)\n",
        "\n",
        "g=np.sum(a)\n",
        "print(\"\\n\",g)\n",
        "\n",
        "h=np.sum(b)\n",
        "print(\"\\n\",h)"
      ],
      "metadata": {
        "colab": {
          "base_uri": "https://localhost:8080/"
        },
        "id": "_vHfy-o8QvIG",
        "outputId": "00df4918-0c69-47b5-f4e4-65d9787279ea"
      },
      "execution_count": 11,
      "outputs": [
        {
          "output_type": "stream",
          "name": "stdout",
          "text": [
            "\n",
            " [[1 2]\n",
            " [3 4]\n",
            " [5 6]\n",
            " [7 8]]\n",
            "\n",
            " [16 20]\n",
            "\n",
            " [ 3  7 11 15]\n",
            "\n",
            " 36\n",
            "\n",
            " [[19 22]\n",
            " [43 50]]\n",
            "\n",
            " [62 72]\n",
            "\n",
            " [41 93]\n",
            "\n",
            " 10\n",
            "\n",
            " 26\n"
          ]
        }
      ]
    }
  ]
}