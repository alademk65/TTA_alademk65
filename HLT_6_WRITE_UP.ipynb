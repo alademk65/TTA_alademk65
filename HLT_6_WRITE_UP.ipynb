{
  "nbformat": 4,
  "nbformat_minor": 0,
  "metadata": {
    "colab": {
      "name": "HLT 6 WRITE UP.ipynb",
      "provenance": [],
      "authorship_tag": "ABX9TyNoIBshNgwJK9GqhXnKbZgy",
      "include_colab_link": true
    },
    "kernelspec": {
      "name": "python3",
      "display_name": "Python 3"
    },
    "language_info": {
      "name": "python"
    }
  },
  "cells": [
    {
      "cell_type": "markdown",
      "metadata": {
        "id": "view-in-github",
        "colab_type": "text"
      },
      "source": [
        "<a href=\"https://colab.research.google.com/github/alademk65/TTA_alademk65/blob/main/HLT_6_WRITE_UP.ipynb\" target=\"_parent\"><img src=\"https://colab.research.google.com/assets/colab-badge.svg\" alt=\"Open In Colab\"/></a>"
      ]
    },
    {
      "cell_type": "code",
      "execution_count": null,
      "metadata": {
        "id": "oc_5RzfhBVSX"
      },
      "outputs": [],
      "source": [
        ""
      ]
    },
    {
      "cell_type": "markdown",
      "source": [
        "# KNN (K- Nearest Neighbours)\n",
        "\n",
        "One of the most fundamental supervised machine learning approaches for classification and regression is the k-nearest neighbour technique. It's a nonparametric method for categorising data points based on their neighbours' classifications. The basic principle behind KNN is to choose the \"k\" samples with the least distance as the test data's nearest neighbours. These 'k' samples are selected at random from the training data as the initial closest neighbour samples. It is advisable to choose an odd value for 'k' to get a clear prognosis (Achinya 2020).\n",
        "\n",
        "(Achintya and Kumar., 2020) used Artificial Neural Network (ANN), k-Nearest Neighbours (KNN), Support Vector Machines (SVM), and Decision Tree (DT) approaches to detect an open-circuit switch problem in a multilevel inverter. The proposed method discovered faulty switches by monitoring capacitor current and switch current data. The Symlet discrete wavelet transform was employed for feature extraction.\n",
        "\n"
      ],
      "metadata": {
        "id": "oLPXTXi-BaLG"
      }
    },
    {
      "cell_type": "markdown",
      "source": [
        "#Reference\n",
        "\n",
        "> Achintya, P. and Kumar Sahu, L. (eds.) (Feb 2020) . 'Open Circuit Switch Fault Detection in Multilevel Inverter Topology using Machine Learning Techniques': IEEE\n",
        "\n",
        "> Mikaeel, A (2020) . 'AI ASSITED REAL-TIME FAULT DETECTION OF AUTOMOTIVE TRACTION INVERTER'"
      ],
      "metadata": {
        "id": "Zd31kq6Ou8yv"
      }
    }
  ]
}